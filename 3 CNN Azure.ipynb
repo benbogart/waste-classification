{
 "cells": [
  {
   "cell_type": "markdown",
   "metadata": {},
   "source": [
    "This workbook begins using the environment we have setup on Azure Machine Learning to iterate through several multilayer perceptrons."
   ]
  },
  {
   "cell_type": "code",
   "execution_count": 1,
   "metadata": {
    "gather": {
     "logged": 1615476874604
    },
    "jupyter": {
     "outputs_hidden": false,
     "source_hidden": false
    },
    "nteract": {
     "transient": {
      "deleting": false
     }
    }
   },
   "outputs": [],
   "source": [
    "import os\n",
    "import shutil\n",
    "import pickle\n",
    "\n",
    "import pandas as pd\n",
    "\n",
    "import numpy as np\n",
    "import matplotlib.pyplot as plt\n",
    "%matplotlib inline\n",
    "\n",
    "from tensorflow.keras.preprocessing.image import (ImageDataGenerator, array_to_img, \n",
    "                                       img_to_array, load_img)\n",
    "from tensorflow.keras import callbacks, models, layers, losses\n",
    "\n",
    "from azureml.core import Workspace, Dataset, ScriptRunConfig\n",
    "from azureml.tensorboard import Tensorboard"
   ]
  },
  {
   "cell_type": "code",
   "execution_count": 2,
   "metadata": {
    "gather": {
     "logged": 1615476874604
    },
    "jupyter": {
     "outputs_hidden": false,
     "source_hidden": false
    },
    "nteract": {
     "transient": {
      "deleting": false
     }
    }
   },
   "outputs": [],
   "source": [
    "%load_ext autoreload\n",
    "%autoreload 2"
   ]
  },
  {
   "cell_type": "code",
   "execution_count": 3,
   "metadata": {
    "gather": {
     "logged": 1615476874604
    },
    "jupyter": {
     "outputs_hidden": false,
     "source_hidden": false
    },
    "nteract": {
     "transient": {
      "deleting": false
     }
    }
   },
   "outputs": [],
   "source": [
    "from utils import log_runs, visualize_log, plot_accuracy"
   ]
  },
  {
   "cell_type": "markdown",
   "metadata": {},
   "source": [
    "# Setup\n",
    "\n",
    "Load in the resources created in the first notebook, and setup for these expirments"
   ]
  },
  {
   "cell_type": "code",
   "execution_count": 4,
   "metadata": {},
   "outputs": [],
   "source": [
    "# Load the stored workspace\n",
    "ws = Workspace.from_config()"
   ]
  },
  {
   "cell_type": "code",
   "execution_count": 5,
   "metadata": {
    "gather": {
     "logged": 1615476539497
    }
   },
   "outputs": [],
   "source": [
    "# Get the registered dataset from azure\n",
    "dataset = Dataset.get_by_name(ws, name='waste_images')"
   ]
  },
  {
   "cell_type": "code",
   "execution_count": 6,
   "metadata": {
    "gather": {
     "logged": 1615493144747
    },
    "jupyter": {
     "outputs_hidden": false,
     "source_hidden": false
    },
    "nteract": {
     "transient": {
      "deleting": false
     }
    }
   },
   "outputs": [],
   "source": [
    "from azureml.core.environment import Environment\n",
    "#from azureml.core.conda_dependencies import CondaDependencies\n",
    "\n",
    "# get the registered env\n",
    "env = Environment.get(ws, 'waste-env-gpu')"
   ]
  },
  {
   "cell_type": "code",
   "execution_count": 7,
   "metadata": {},
   "outputs": [],
   "source": [
    "# get our compoute cluster\n",
    "# for cnn we will use a gpu cluster\n",
    "compute_name = \"gpu-cluster2-NC6\"\n",
    "compute_target = ws.compute_targets[compute_name]"
   ]
  },
  {
   "cell_type": "raw",
   "metadata": {},
   "source": [
    "# get our compoute cluster\n",
    "# for cnn we will use a gpu cluster\n",
    "compute_name = \"gpu-cluster-NC24\"\n",
    "compute_target = ws.compute_targets[compute_name]"
   ]
  },
  {
   "cell_type": "markdown",
   "metadata": {
    "nteract": {
     "transient": {
      "deleting": false
     }
    }
   },
   "source": [
    "## Write control script\n",
    "\n",
    "The control script will be uploaded to aml instances in azure.  Images are cached in Azure, so parameterizing the script results in faster run times than submitting new scrips for each run.  It also allows for faster iteration"
   ]
  },
  {
   "cell_type": "code",
   "execution_count": 8,
   "metadata": {
    "jupyter": {
     "outputs_hidden": false,
     "source_hidden": false
    },
    "nteract": {
     "transient": {
      "deleting": false
     }
    }
   },
   "outputs": [
    {
     "name": "stdout",
     "output_type": "stream",
     "text": [
      "Overwriting train.py\n"
     ]
    }
   ],
   "source": [
    "%%writefile train.py\n",
    "\n",
    "import argparse\n",
    "import os\n",
    "import shutil\n",
    "import numpy as np\n",
    "import pickle\n",
    "\n",
    "from azureml.core import Run\n",
    "from azureml.core import Workspace, Dataset\n",
    "\n",
    "from tensorflow.keras.preprocessing.image import (ImageDataGenerator, array_to_img, \n",
    "                                       img_to_array, load_img)\n",
    "from tensorflow.keras import callbacks\n",
    "from tensorflow.keras import models\n",
    "from tensorflow.keras import layers\n",
    "from tensorflow.keras import losses\n",
    "\n",
    "from utils import count_files\n",
    "\n",
    "# set seed for reproducibility\n",
    "np.random.seed(867)\n",
    "\n",
    "# output will be logged, separate output from previous log entries.\n",
    "print('-'*100)\n",
    "\n",
    "# parse the parameters passed to the this script\n",
    "parser = argparse.ArgumentParser()\n",
    "parser.add_argument('--data_path', type=str, \n",
    "                    dest='data_path', \n",
    "                    default='data', \n",
    "                    help='data folder mounting point')\n",
    "\n",
    "\n",
    "parser.add_argument('--conv_nodes', \n",
    "                    type=str, \n",
    "                    dest='conv_nodes', \n",
    "                    default='32', \n",
    "                    help='number of nodes in each layer (comma separated)')\n",
    "parser.add_argument('--conv_kernel_sizes', \n",
    "                    type=str, \n",
    "                    dest='conv_kernel_sizes', \n",
    "                    default='32', \n",
    "                    help='kernel_size for each convolution layer (comma separated)')\n",
    "parser.add_argument('--conv_activations', \n",
    "                    type=str, \n",
    "                    dest='conv_activations', \n",
    "                    default='relu', \n",
    "                    help='activation function to use on hidden layers (comma separated)')\n",
    "parser.add_argument('--pool_sizes', \n",
    "                    type=str, \n",
    "                    dest='pool_sizes', \n",
    "                    default='(2,2)', \n",
    "                    help='pool size for max pooling layer (comma separated)')\n",
    "\n",
    "    \n",
    "parser.add_argument('--dense_nodes', \n",
    "                    type=str, \n",
    "                    dest='dense_nodes', \n",
    "                    default='32', \n",
    "                    help='number of nodes in each layer (comma separated)')\n",
    "parser.add_argument('--dense_activations', \n",
    "                    type=str, \n",
    "                    dest='dense_activations', \n",
    "                    default='relu', \n",
    "                    help='activation function to use on hidden layers (comma separated)')\n",
    "\n",
    "parser.add_argument('--optimizer', \n",
    "                    type=str, \n",
    "                    dest='optimizer', \n",
    "                    default='sgd', \n",
    "                    help='optimizer to use')\n",
    "parser.add_argument('--epochs', \n",
    "                    type=int, \n",
    "                    dest='epochs', \n",
    "                    default=5, \n",
    "                    help='number of epochs to try.')\n",
    "args = parser.parse_args()\n",
    "\n",
    "# split list args into lists\n",
    "conv_nodes = [int(x) for x in args.conv_nodes.split(',')]\n",
    "conv_kernel_sizes = args.conv_kernel_sizes[1:-1].split('],[')\n",
    "conv_kernel_sizes = [(int(x.split(',')[0]),int(x.split(',')[0])) for x in conv_kernel_sizes]\n",
    "conv_activations = args.conv_activations.split(',')\n",
    "pool_sizes = args.pool_sizes[1:-1].split('],[')\n",
    "pool_sizes = [(int(x.split(',')[0]),int(x.split(',')[0])) for x in pool_sizes]\n",
    "\n",
    "dense_nodes = args.dense_nodes.split(',')\n",
    "dense_activations = args.dense_activations.split(',')\n",
    "\n",
    "# get azure run context\n",
    "run = Run.get_context()\n",
    "\n",
    "# print to log for debuggig if necessary\n",
    "print('Data folder:',args.data_path)\n",
    "\n",
    "print('Convolution Nodes:', conv_nodes)\n",
    "for node in conv_nodes:\n",
    "    print(type(node))\n",
    "\n",
    "print('Convolution kernel_sizes:', conv_kernel_sizes)\n",
    "for node in conv_kernel_sizes:\n",
    "    print(type(node))\n",
    "\n",
    "print('ConvolutionActivations:', conv_activations)\n",
    "for node in conv_activations:\n",
    "    print(type(node))\n",
    "\n",
    "print('Pool Sizes', pool_sizes)\n",
    "for node in pool_sizes:\n",
    "    print(type(node))\n",
    "    \n",
    "print('Dense Nodes:', dense_nodes)\n",
    "print('Dense Activations:', dense_activations)\n",
    "\n",
    "# set data paths\n",
    "train_folder = os.path.join(args.data_path, 'train')\n",
    "val_folder = os.path.join(args.data_path, 'validation')\n",
    "test_folder = os.path.join(args.data_path, 'test')\n",
    "\n",
    "# count the number of files in each split\n",
    "num_train = count_files(train_folder)\n",
    "num_val = count_files(val_folder)\n",
    "num_test = count_files(test_folder)\n",
    "\n",
    "# print number of files in each split to log\n",
    "print('Num Train Files:', num_train)\n",
    "print('Num Val Files:', num_val)\n",
    "print('Num Test Files:', num_test)\n",
    "\n",
    "\n",
    "# Create generators for importing the images\n",
    "print('Creating train ImageDataGenerator')\n",
    "train_generator = ImageDataGenerator(rescale=1/255)\\\n",
    "                        .flow_from_directory(train_folder,\n",
    "                                             #target_size = (244, 244),\n",
    "                                             batch_size = 32)\n",
    "print('Creating validation ImageDataGenerator')\n",
    "val_generator = ImageDataGenerator(rescale=1/255)\\\n",
    "                        .flow_from_directory(val_folder,\n",
    "                                             #target_size = (244, 244),\n",
    "                                             batch_size = num_val)\n",
    "print('Creating test ImageDataGenerator')\n",
    "test_generator = ImageDataGenerator(rescale=1/255)\\\n",
    "                        .flow_from_directory(test_folder,\n",
    "                                             #target_size = (244, 244),\n",
    "                                             batch_size = num_test)\n",
    "\n",
    "# model callbacks\n",
    "my_callbacks = [\n",
    "    callbacks.EarlyStopping(patience=3),\n",
    "    callbacks.ModelCheckpoint(filepath=f'outputs/{run.id}.h5',\n",
    "                              save_best_only=True),\n",
    "    callbacks.TensorBoard(log_dir=f'logs/{run.properties[\"name\"]}/',\n",
    "                          histogram_freq=1,\n",
    "                          profile_batch=0)\n",
    "]\n",
    "\n",
    "# Build the model\n",
    "model = models.Sequential()\n",
    "\n",
    "for node, kernel_size, activation, pool_size in zip(conv_nodes, \n",
    "                                         conv_kernel_sizes, \n",
    "                                         conv_activations,\n",
    "                                         pool_sizes):\n",
    "    print(f'Creating Conv2D layer with {node} nodes,',\n",
    "          f'kernel_size={kernel_size} and activation={activation}')\n",
    "    model.add(layers.Conv2D(node, kernel_size, activation=activation))\n",
    "    print(f'Creating MaxPooling2d layer with pool_size={pool_size}')\n",
    "    model.add(layers.MaxPooling2D(pool_size))\n",
    "\n",
    "model.add(layers.Flatten())\n",
    "\n",
    "# create hidden layers based on parameters\n",
    "for node, activation in zip(dense_nodes, dense_activations):\n",
    "    print(f'Creating Dense layer with {node} nodes and activation={activation}')\n",
    "    model.add(layers.Dense(node, activation=activation))\n",
    "\n",
    "# final layer for classification\n",
    "model.add(layers.Dense(6, activation='softmax'))\n",
    "\n",
    "model.compile(optimizer=args.optimizer,\n",
    "              loss='categorical_crossentropy',\n",
    "              metrics=['acc'])\n",
    "\n",
    "# fit model and store history\n",
    "STEP_SIZE_TRAIN=train_generator.n//train_generator.batch_size\n",
    "STEP_SIZE_VALID=val_generator.n//val_generator.batch_size\n",
    "history = model.fit(train_generator,\n",
    "                    steps_per_epoch=STEP_SIZE_TRAIN,\n",
    "                    validation_data=val_generator,\n",
    "                    validation_steps=STEP_SIZE_VALID,\n",
    "                    epochs=args.epochs,\n",
    "                    callbacks=my_callbacks)\n",
    "\n",
    "print('Saving model history...')\n",
    "with open(f'outputs/{run.id}.history', 'wb') as f:\n",
    "    pickle.dump(history.history, f)\n",
    "\n",
    "# print model summary to log\n",
    "model.summary()\n",
    "\n",
    "print('evaluating model on test set...')\n",
    "model_val = model.evaluate(test_generator)\n",
    "\n",
    "print('Test Loss:', model_val[0])\n",
    "print('Test Accuracy:', model_val[1])\n",
    "\n",
    "run.log('test_loss', np.float(model_val[0]))\n",
    "run.log('test_accuracy', np.float(model_val[1]))\n",
    "\n",
    "print('Done!')\n",
    "print('-'*100)"
   ]
  },
  {
   "cell_type": "code",
   "execution_count": 9,
   "metadata": {
    "gather": {
     "logged": 1615499681434
    },
    "jupyter": {
     "outputs_hidden": false,
     "source_hidden": false
    },
    "nteract": {
     "transient": {
      "deleting": false
     }
    },
    "scrolled": true
   },
   "outputs": [
    {
     "data": {
      "text/plain": [
       "'cnn_train_script/utils.py'"
      ]
     },
     "execution_count": 9,
     "metadata": {},
     "output_type": "execute_result"
    }
   ],
   "source": [
    "if not os.path.exists('cnn_train_script'):\n",
    "    os.mkdir('cnn_train_script')\n",
    "\n",
    "# move the file to the upload dir\n",
    "shutil.copy('train.py', 'cnn_train_script/')\n",
    "shutil.copy('utils.py', 'cnn_train_script/')\n"
   ]
  },
  {
   "cell_type": "markdown",
   "metadata": {},
   "source": [
    "## Iterate models\n",
    "\n",
    "Now that we have a control script we can start submitting runs of various models to azure compute.  They will run asynchronously in parallel which will make this process comparatively fast."
   ]
  },
  {
   "cell_type": "code",
   "execution_count": 22,
   "metadata": {},
   "outputs": [],
   "source": [
    "# set the expiriment\n",
    "experiment_name = 'cnn'\n",
    "from azureml.core import Experiment\n",
    "exp = Experiment(workspace=ws, name=experiment_name)"
   ]
  },
  {
   "cell_type": "code",
   "execution_count": 147,
   "metadata": {},
   "outputs": [],
   "source": [
    "# create var to stor run objects\n",
    "runs = []"
   ]
  },
  {
   "cell_type": "markdown",
   "metadata": {},
   "source": [
    "### Model 1 - Baseline\n",
    "- hidden layer 1: 32 nodes, sigmoid activation function\n",
    "- hidden layer 2: 16 nodes, sigmoid activation function\n",
    "- optimizer: sgd"
   ]
  },
  {
   "cell_type": "code",
   "execution_count": 148,
   "metadata": {
    "gather": {
     "logged": 1615499689695
    },
    "jupyter": {
     "outputs_hidden": false,
     "source_hidden": false
    },
    "nteract": {
     "transient": {
      "deleting": false
     }
    }
   },
   "outputs": [],
   "source": [
    "args = ['--data_path', dataset.as_named_input('input').as_mount(),\n",
    "        '--conv_nodes', '32,64',\n",
    "        '--conv_kernel_sizes', '[2,2],[2,2]',\n",
    "        '--conv_activations', 'relu,relu',\n",
    "        '--pool_sizes', '[2,2],[2,2]', \n",
    "        '--dense_nodes', '64',\n",
    "        '--dense_activations', 'relu',\n",
    "        '--optimizer', 'sgd',\n",
    "        '--epochs', '50']\n",
    "\n",
    "src = ScriptRunConfig(source_directory='cnn_train_script/',\n",
    "                      script='train.py', \n",
    "                      arguments=args,\n",
    "                      compute_target=compute_target,\n",
    "                      environment=env)"
   ]
  },
  {
   "cell_type": "code",
   "execution_count": 149,
   "metadata": {},
   "outputs": [],
   "source": [
    "runs.append(exp.submit(config=src))\n",
    "\n",
    "# Add name and tags for tracking\n",
    "runs[-1].add_properties({'name': 'conv32-64dense64'})\n",
    "\n",
    "runs[-1].tag('class', 'cnn')\n",
    "runs[-1].tag('activation', 'relu')\n",
    "runs[-1].tag('optimizer', 'sgd')\n",
    "runs[-1].tag('hidden layers', '3')\n",
    "runs[-1].tag('convolution layers', '2')\n",
    "runs[-1].tag('dense layers', '1')"
   ]
  },
  {
   "cell_type": "markdown",
   "metadata": {},
   "source": [
    "### Start Tensorboard to monitor the runs"
   ]
  },
  {
   "cell_type": "code",
   "execution_count": 76,
   "metadata": {
    "jupyter": {
     "outputs_hidden": false,
     "source_hidden": false
    },
    "nteract": {
     "transient": {
      "deleting": false
     }
    }
   },
   "outputs": [
    {
     "name": "stdout",
     "output_type": "stream",
     "text": [
      "http://localhost:6006/\n"
     ]
    },
    {
     "data": {
      "text/plain": [
       "'http://localhost:6006/'"
      ]
     },
     "execution_count": 76,
     "metadata": {},
     "output_type": "execute_result"
    }
   ],
   "source": [
    "# Start Tensor board to monitor the run\n",
    "tb = Tensorboard(runs)\n",
    "tb.start()"
   ]
  },
  {
   "cell_type": "code",
   "execution_count": 77,
   "metadata": {
    "jupyter": {
     "outputs_hidden": false,
     "source_hidden": false
    },
    "nteract": {
     "transient": {
      "deleting": false
     }
    }
   },
   "outputs": [],
   "source": [
    "# After your job completes, be sure to stop() the streaming otherwise it will continue to run. \n",
    "tb.stop()"
   ]
  },
  {
   "cell_type": "markdown",
   "metadata": {},
   "source": [
    "### Evaluate runs"
   ]
  },
  {
   "cell_type": "code",
   "execution_count": 13,
   "metadata": {},
   "outputs": [],
   "source": [
    "from azureml.core import Run\n",
    "run = Run.get(ws, 'cnn_1615742146_d03a61e5')"
   ]
  },
  {
   "cell_type": "code",
   "execution_count": 16,
   "metadata": {},
   "outputs": [],
   "source": [
    "runs = [run]"
   ]
  },
  {
   "cell_type": "code",
   "execution_count": 18,
   "metadata": {},
   "outputs": [
    {
     "data": {
      "text/plain": [
       "{'test_loss': 1.5096192359924316, 'test_accuracy': 0.5483871102333069}"
      ]
     },
     "metadata": {},
     "output_type": "display_data"
    },
    {
     "data": {
      "text/html": [
       "<div>\n",
       "<style scoped>\n",
       "    .dataframe tbody tr th:only-of-type {\n",
       "        vertical-align: middle;\n",
       "    }\n",
       "\n",
       "    .dataframe tbody tr th {\n",
       "        vertical-align: top;\n",
       "    }\n",
       "\n",
       "    .dataframe thead th {\n",
       "        text-align: right;\n",
       "    }\n",
       "</style>\n",
       "<table border=\"1\" class=\"dataframe\">\n",
       "  <thead>\n",
       "    <tr style=\"text-align: right;\">\n",
       "      <th></th>\n",
       "      <th>name</th>\n",
       "      <th>type</th>\n",
       "      <th>test_loss</th>\n",
       "      <th>test_accuracy</th>\n",
       "      <th>train_loss</th>\n",
       "      <th>train_accuracy</th>\n",
       "      <th>val_loss</th>\n",
       "      <th>val_accuracy</th>\n",
       "    </tr>\n",
       "  </thead>\n",
       "  <tbody>\n",
       "    <tr>\n",
       "      <th>cnn_1615742146_d03a61e5</th>\n",
       "      <td>conv32-64dense64</td>\n",
       "      <td>cnn</td>\n",
       "      <td>1.509619</td>\n",
       "      <td>0.548387</td>\n",
       "      <td>[1.7262964248657227, 1.66776704788208, 1.62684...</td>\n",
       "      <td>[0.21610915660858154, 0.2865316867828369, 0.34...</td>\n",
       "      <td>[1.6832735538482666, 1.5840280055999756, 1.523...</td>\n",
       "      <td>[0.23664122819900513, 0.40458014607429504, 0.4...</td>\n",
       "    </tr>\n",
       "  </tbody>\n",
       "</table>\n",
       "</div>"
      ],
      "text/plain": [
       "                                     name type  test_loss  test_accuracy  \\\n",
       "cnn_1615742146_d03a61e5  conv32-64dense64  cnn   1.509619       0.548387   \n",
       "\n",
       "                                                                train_loss  \\\n",
       "cnn_1615742146_d03a61e5  [1.7262964248657227, 1.66776704788208, 1.62684...   \n",
       "\n",
       "                                                            train_accuracy  \\\n",
       "cnn_1615742146_d03a61e5  [0.21610915660858154, 0.2865316867828369, 0.34...   \n",
       "\n",
       "                                                                  val_loss  \\\n",
       "cnn_1615742146_d03a61e5  [1.6832735538482666, 1.5840280055999756, 1.523...   \n",
       "\n",
       "                                                              val_accuracy  \n",
       "cnn_1615742146_d03a61e5  [0.23664122819900513, 0.40458014607429504, 0.4...  "
      ]
     },
     "execution_count": 18,
     "metadata": {},
     "output_type": "execute_result"
    }
   ],
   "source": [
    "log = log_runs(runs, 'cnn')\n",
    "log"
   ]
  },
  {
   "cell_type": "code",
   "execution_count": 202,
   "metadata": {},
   "outputs": [
    {
     "data": {
      "image/png": "[encoded data removed]",
      "text/plain": [
       "<Figure size 864x288 with 2 Axes>"
      ]
     },
     "metadata": {
      "needs_background": "light"
     },
     "output_type": "display_data"
    }
   ],
   "source": [
    "visualize_log(log.loc[[r.id for r in runs]])"
   ]
  },
  {
   "cell_type": "code",
   "execution_count": 203,
   "metadata": {},
   "outputs": [
    {
     "data": {
      "image/png": "[encoded data removed]",
      "text/plain": [
       "<Figure size 864x288 with 2 Axes>"
      ]
     },
     "metadata": {
      "needs_background": "light"
     },
     "output_type": "display_data"
    }
   ],
   "source": [
    "plot_accuracy(log.loc[[r.id for r in runs]])"
   ]
  },
  {
   "cell_type": "markdown",
   "metadata": {},
   "source": [
    "Talk about runs here."
   ]
  },
  {
   "cell_type": "markdown",
   "metadata": {},
   "source": [
    "# Test 1\n",
    "In this test I will experiment with different sizes for the convolution layers."
   ]
  },
  {
   "cell_type": "code",
   "execution_count": 19,
   "metadata": {},
   "outputs": [],
   "source": [
    "runs2 = [runs[0]]"
   ]
  },
  {
   "cell_type": "markdown",
   "metadata": {},
   "source": [
    "### Model 2 \n",
    "- Convolution Layer 1 nodes: 64\n",
    "- Convolution Layer 2 nodes: 128\n",
    "- Dense layer activation: sigmoid\n",
    "- optimizer: "
   ]
  },
  {
   "cell_type": "code",
   "execution_count": 23,
   "metadata": {
    "gather": {
     "logged": 1615499689695
    },
    "jupyter": {
     "outputs_hidden": false,
     "source_hidden": false
    },
    "nteract": {
     "transient": {
      "deleting": false
     }
    }
   },
   "outputs": [],
   "source": [
    "args = ['--data_path', dataset.as_named_input('input').as_mount(),\n",
    "        '--conv_nodes', '64,128',\n",
    "        '--conv_kernel_sizes', '[2,2],[2,2]',\n",
    "        '--conv_activations', 'relu,relu',\n",
    "        '--pool_sizes', '[2,2],[2,2]', \n",
    "        '--dense_nodes', '64',\n",
    "        '--dense_activations', 'relu',\n",
    "        '--optimizer', 'sgd',\n",
    "        '--epochs', '50']\n",
    "\n",
    "src = ScriptRunConfig(source_directory='cnn_train_script/',\n",
    "                      script='train.py', \n",
    "                      arguments=args,\n",
    "                      compute_target=compute_target,\n",
    "                      environment=env)"
   ]
  },
  {
   "cell_type": "code",
   "execution_count": 24,
   "metadata": {},
   "outputs": [],
   "source": [
    "runs2.append(exp.submit(config=src))\n",
    "\n",
    "# Add name and tags for tracking\n",
    "runs2[-1].add_properties({'name': 'conv64-128dense64'})\n",
    "\n",
    "runs2[-1].tag('class', 'cnn')\n",
    "runs2[-1].tag('activation', 'relu')\n",
    "runs2[-1].tag('optimizer', 'sgd')\n",
    "runs2[-1].tag('hidden layers', '3')\n",
    "runs2[-1].tag('convolution layers', '2')\n",
    "runs2[-1].tag('dense layers', '1')"
   ]
  },
  {
   "cell_type": "markdown",
   "metadata": {},
   "source": [
    "### Model 3\n",
    "- Convolution Layer 1 nodes: 128\n",
    "- Convolution Layer 2 nodes: 256\n",
    "- optimizer: sgd"
   ]
  },
  {
   "cell_type": "code",
   "execution_count": 25,
   "metadata": {
    "gather": {
     "logged": 1615499689695
    },
    "jupyter": {
     "outputs_hidden": false,
     "source_hidden": false
    },
    "nteract": {
     "transient": {
      "deleting": false
     }
    }
   },
   "outputs": [],
   "source": [
    "args = ['--data_path', dataset.as_named_input('input').as_mount(),\n",
    "        '--conv_nodes', '128,256',\n",
    "        '--conv_kernel_sizes', '[2,2],[2,2]',\n",
    "        '--conv_activations', 'relu,relu',\n",
    "        '--pool_sizes', '[2,2],[2,2]', \n",
    "        '--dense_nodes', '64',\n",
    "        '--dense_activations', 'relu',\n",
    "        '--optimizer', 'sgd',\n",
    "        '--epochs', '50']\n",
    "\n",
    "src = ScriptRunConfig(source_directory='cnn_train_script/',\n",
    "                      script='train.py', \n",
    "                      arguments=args,\n",
    "                      compute_target=compute_target,\n",
    "                      environment=env)"
   ]
  },
  {
   "cell_type": "code",
   "execution_count": 26,
   "metadata": {},
   "outputs": [],
   "source": [
    "runs2.append(exp.submit(config=src))\n",
    "\n",
    "# Add name and tags for tracking\n",
    "runs2[-1].add_properties({'name': 'conv128-256dense256'})\n",
    "\n",
    "runs2[-1].tag('class', 'cnn')\n",
    "runs2[-1].tag('activation', 'relu')\n",
    "runs2[-1].tag('optimizer', 'sgd')\n",
    "runs2[-1].tag('hidden layers', '3')\n",
    "runs2[-1].tag('convolution layers', '2')\n",
    "runs2[-1].tag('dense layers', '1')"
   ]
  },
  {
   "cell_type": "markdown",
   "metadata": {},
   "source": [
    "# Start Tensorboard to monitor runs"
   ]
  },
  {
   "cell_type": "code",
   "execution_count": 136,
   "metadata": {
    "jupyter": {
     "outputs_hidden": false,
     "source_hidden": false
    },
    "nteract": {
     "transient": {
      "deleting": false
     }
    }
   },
   "outputs": [
    {
     "name": "stdout",
     "output_type": "stream",
     "text": [
      "http://localhost:6006/\n"
     ]
    },
    {
     "data": {
      "text/plain": [
       "'http://localhost:6006/'"
      ]
     },
     "execution_count": 136,
     "metadata": {},
     "output_type": "execute_result"
    }
   ],
   "source": [
    "# Start Tensor board to monitor the run\n",
    "tb = Tensorboard(runs2)\n",
    "tb.start()"
   ]
  },
  {
   "cell_type": "code",
   "execution_count": 121,
   "metadata": {
    "jupyter": {
     "outputs_hidden": false,
     "source_hidden": false
    },
    "nteract": {
     "transient": {
      "deleting": false
     }
    }
   },
   "outputs": [],
   "source": [
    "# After your job completes, be sure to stop() the streaming otherwise it will continue to run. \n",
    "tb.stop()"
   ]
  },
  {
   "cell_type": "markdown",
   "metadata": {},
   "source": [
    "### Evaluate runs"
   ]
  },
  {
   "cell_type": "code",
   "execution_count": 166,
   "metadata": {},
   "outputs": [
    {
     "data": {
      "text/plain": [
       "[Run(Experiment: cnn,\n",
       " Id: cnn_1615742146_d03a61e5,\n",
       " Type: azureml.scriptrun,\n",
       " Status: Preparing),\n",
       " Run(Experiment: cnn,\n",
       " Id: cnn_1615742956_531610f7,\n",
       " Type: azureml.scriptrun,\n",
       " Status: Preparing),\n",
       " Run(Experiment: cnn,\n",
       " Id: cnn_1615742964_383b97fa,\n",
       " Type: azureml.scriptrun,\n",
       " Status: Preparing),\n",
       " Run(Experiment: cnn,\n",
       " Id: cnn_1615742969_4a392157,\n",
       " Type: azureml.scriptrun,\n",
       " Status: Preparing),\n",
       " Run(Experiment: cnn,\n",
       " Id: cnn_1615742975_e36e70be,\n",
       " Type: azureml.scriptrun,\n",
       " Status: Preparing),\n",
       " Run(Experiment: cnn,\n",
       " Id: cnn_1615742981_ae184178,\n",
       " Type: azureml.scriptrun,\n",
       " Status: Preparing)]"
      ]
     },
     "execution_count": 166,
     "metadata": {},
     "output_type": "execute_result"
    }
   ],
   "source": [
    "runs2"
   ]
  },
  {
   "cell_type": "code",
   "execution_count": 82,
   "metadata": {},
   "outputs": [
    {
     "data": {
      "text/plain": [
       "{'test_loss': 1.2955955266952515, 'test_accuracy': 0.5483871102333069}"
      ]
     },
     "metadata": {},
     "output_type": "display_data"
    },
    {
     "data": {
      "text/html": [
       "<div>\n",
       "<style scoped>\n",
       "    .dataframe tbody tr th:only-of-type {\n",
       "        vertical-align: middle;\n",
       "    }\n",
       "\n",
       "    .dataframe tbody tr th {\n",
       "        vertical-align: top;\n",
       "    }\n",
       "\n",
       "    .dataframe thead th {\n",
       "        text-align: right;\n",
       "    }\n",
       "</style>\n",
       "<table border=\"1\" class=\"dataframe\">\n",
       "  <thead>\n",
       "    <tr style=\"text-align: right;\">\n",
       "      <th></th>\n",
       "      <th>name</th>\n",
       "      <th>type</th>\n",
       "      <th>test_loss</th>\n",
       "      <th>test_accuracy</th>\n",
       "      <th>train_loss</th>\n",
       "      <th>train_accuracy</th>\n",
       "      <th>val_loss</th>\n",
       "      <th>val_accuracy</th>\n",
       "    </tr>\n",
       "    <tr>\n",
       "      <th>id</th>\n",
       "      <th></th>\n",
       "      <th></th>\n",
       "      <th></th>\n",
       "      <th></th>\n",
       "      <th></th>\n",
       "      <th></th>\n",
       "      <th></th>\n",
       "      <th></th>\n",
       "    </tr>\n",
       "  </thead>\n",
       "  <tbody>\n",
       "    <tr>\n",
       "      <th>mlp_1615656464_eb63f1c0</th>\n",
       "      <td>sigmoid-sgd</td>\n",
       "      <td>mlp</td>\n",
       "      <td>1.463566</td>\n",
       "      <td>0.467742</td>\n",
       "      <td>[1.7974865436553955, 1.7372865676879883, 1.713...</td>\n",
       "      <td>[0.1729753464460373, 0.2315140813589096, 0.277...</td>\n",
       "      <td>[1.7528793811798096, 1.7180869579315186, 1.692...</td>\n",
       "      <td>[0.17557251453399658, 0.3358778655529022, 0.30...</td>\n",
       "    </tr>\n",
       "    <tr>\n",
       "      <th>mlp_1615656470_ffdc4734</th>\n",
       "      <td>relu-sgd</td>\n",
       "      <td>mlp</td>\n",
       "      <td>1.716608</td>\n",
       "      <td>0.233871</td>\n",
       "      <td>[2.2597947120666504, 1.7758759260177612, 1.767...</td>\n",
       "      <td>[0.21478873491287231, 0.23503521084785461, 0.2...</td>\n",
       "      <td>[1.7806367874145508, 1.7706297636032104, 1.762...</td>\n",
       "      <td>[0.23664122819900513, 0.23664122819900513, 0.2...</td>\n",
       "    </tr>\n",
       "    <tr>\n",
       "      <th>mlp_1615656474_a157ccc3</th>\n",
       "      <td>sigmoid-adam</td>\n",
       "      <td>mlp</td>\n",
       "      <td>1.716935</td>\n",
       "      <td>0.233871</td>\n",
       "      <td>[1.770506501197815, 1.726367712020874, 1.72556...</td>\n",
       "      <td>[0.20246478915214539, 0.23503521084785461, 0.2...</td>\n",
       "      <td>[1.7273155450820923, 1.7236706018447876, 1.722...</td>\n",
       "      <td>[0.23664122819900513, 0.23664122819900513, 0.2...</td>\n",
       "    </tr>\n",
       "    <tr>\n",
       "      <th>mlp_1615656477_520a50bc</th>\n",
       "      <td>relu-adam</td>\n",
       "      <td>mlp</td>\n",
       "      <td>1.753966</td>\n",
       "      <td>0.225806</td>\n",
       "      <td>[12.43702507019043, 2.7881507873535156, 1.8240...</td>\n",
       "      <td>[0.1672535240650177, 0.16109155118465424, 0.20...</td>\n",
       "      <td>[2.6074233055114746, 1.9728984832763672, 1.739...</td>\n",
       "      <td>[0.16030533611774445, 0.18320611119270325, 0.1...</td>\n",
       "    </tr>\n",
       "    <tr>\n",
       "      <th>mlp_1615662400_c559f912</th>\n",
       "      <td>64-32</td>\n",
       "      <td>mlp</td>\n",
       "      <td>1.432114</td>\n",
       "      <td>0.475806</td>\n",
       "      <td>[1.7310034036636353, 1.6935681104660034, 1.662...</td>\n",
       "      <td>[0.2262323945760727, 0.28213027119636536, 0.31...</td>\n",
       "      <td>[1.7007421255111694, 1.6550861597061157, 1.627...</td>\n",
       "      <td>[0.30534350872039795, 0.3129771053791046, 0.40...</td>\n",
       "    </tr>\n",
       "    <tr>\n",
       "      <th>mlp_1615662404_abb8f887</th>\n",
       "      <td>128-64</td>\n",
       "      <td>mlp</td>\n",
       "      <td>1.423573</td>\n",
       "      <td>0.475806</td>\n",
       "      <td>[1.7328224182128906, 1.6764565706253052, 1.638...</td>\n",
       "      <td>[0.24295774102210999, 0.28213027119636536, 0.3...</td>\n",
       "      <td>[1.6752843856811523, 1.6190940141677856, 1.572...</td>\n",
       "      <td>[0.28244274854660034, 0.30534350872039795, 0.3...</td>\n",
       "    </tr>\n",
       "    <tr>\n",
       "      <th>mlp_1615662408_e19be324</th>\n",
       "      <td>256-128</td>\n",
       "      <td>mlp</td>\n",
       "      <td>1.483568</td>\n",
       "      <td>0.483871</td>\n",
       "      <td>[1.7225266695022583, 1.6626874208450317, 1.611...</td>\n",
       "      <td>[0.24119718372821808, 0.2922535240650177, 0.35...</td>\n",
       "      <td>[1.6789530515670776, 1.5968527793884277, 1.516...</td>\n",
       "      <td>[0.23664122819900513, 0.2748091518878937, 0.48...</td>\n",
       "    </tr>\n",
       "    <tr>\n",
       "      <th>mlp_1615662412_ddb748ec</th>\n",
       "      <td>512-256</td>\n",
       "      <td>mlp</td>\n",
       "      <td>1.516856</td>\n",
       "      <td>0.435484</td>\n",
       "      <td>[1.7175407409667969, 1.6343629360198975, 1.586...</td>\n",
       "      <td>[0.24779929220676422, 0.30765846371650696, 0.3...</td>\n",
       "      <td>[1.6526559591293335, 1.5529580116271973, 1.492...</td>\n",
       "      <td>[0.3435114622116089, 0.37404578924179077, 0.35...</td>\n",
       "    </tr>\n",
       "    <tr>\n",
       "      <th>mlp_1615664407_c3d5232d</th>\n",
       "      <td>128-64-32</td>\n",
       "      <td>mlp</td>\n",
       "      <td>1.468782</td>\n",
       "      <td>0.467742</td>\n",
       "      <td>[1.8021928071975708, 1.7308865785598755, 1.719...</td>\n",
       "      <td>[0.23019365966320038, 0.23503521084785461, 0.2...</td>\n",
       "      <td>[1.7397912740707397, 1.718546986579895, 1.7101...</td>\n",
       "      <td>[0.23664122819900513, 0.23664122819900513, 0.2...</td>\n",
       "    </tr>\n",
       "    <tr>\n",
       "      <th>mlp_1615664411_0f715dbc</th>\n",
       "      <td>256-128-64</td>\n",
       "      <td>mlp</td>\n",
       "      <td>1.433768</td>\n",
       "      <td>0.491935</td>\n",
       "      <td>[1.725937008857727, 1.712777853012085, 1.70307...</td>\n",
       "      <td>[0.22931337356567383, 0.2389964759349823, 0.25...</td>\n",
       "      <td>[1.7117979526519775, 1.701743245124817, 1.6916...</td>\n",
       "      <td>[0.23664122819900513, 0.23664122819900513, 0.2...</td>\n",
       "    </tr>\n",
       "    <tr>\n",
       "      <th>test_1615689900_dcda3596</th>\n",
       "      <td>conv32-64dense64</td>\n",
       "      <td>cnn</td>\n",
       "      <td>1.295596</td>\n",
       "      <td>0.548387</td>\n",
       "      <td>[1.7286773920059204, 1.6468684673309326, 1.600...</td>\n",
       "      <td>[0.23019365966320038, 0.32262325286865234, 0.3...</td>\n",
       "      <td>[1.6546682119369507, 1.7716423273086548, 1.517...</td>\n",
       "      <td>[0.39694657921791077, 0.16030533611774445, 0.4...</td>\n",
       "    </tr>\n",
       "  </tbody>\n",
       "</table>\n",
       "</div>"
      ],
      "text/plain": [
       "                                      name type  test_loss  test_accuracy  \\\n",
       "id                                                                          \n",
       "mlp_1615656464_eb63f1c0        sigmoid-sgd  mlp   1.463566       0.467742   \n",
       "mlp_1615656470_ffdc4734           relu-sgd  mlp   1.716608       0.233871   \n",
       "mlp_1615656474_a157ccc3       sigmoid-adam  mlp   1.716935       0.233871   \n",
       "mlp_1615656477_520a50bc          relu-adam  mlp   1.753966       0.225806   \n",
       "mlp_1615662400_c559f912              64-32  mlp   1.432114       0.475806   \n",
       "mlp_1615662404_abb8f887             128-64  mlp   1.423573       0.475806   \n",
       "mlp_1615662408_e19be324            256-128  mlp   1.483568       0.483871   \n",
       "mlp_1615662412_ddb748ec            512-256  mlp   1.516856       0.435484   \n",
       "mlp_1615664407_c3d5232d          128-64-32  mlp   1.468782       0.467742   \n",
       "mlp_1615664411_0f715dbc         256-128-64  mlp   1.433768       0.491935   \n",
       "test_1615689900_dcda3596  conv32-64dense64  cnn   1.295596       0.548387   \n",
       "\n",
       "                                                                 train_loss  \\\n",
       "id                                                                            \n",
       "mlp_1615656464_eb63f1c0   [1.7974865436553955, 1.7372865676879883, 1.713...   \n",
       "mlp_1615656470_ffdc4734   [2.2597947120666504, 1.7758759260177612, 1.767...   \n",
       "mlp_1615656474_a157ccc3   [1.770506501197815, 1.726367712020874, 1.72556...   \n",
       "mlp_1615656477_520a50bc   [12.43702507019043, 2.7881507873535156, 1.8240...   \n",
       "mlp_1615662400_c559f912   [1.7310034036636353, 1.6935681104660034, 1.662...   \n",
       "mlp_1615662404_abb8f887   [1.7328224182128906, 1.6764565706253052, 1.638...   \n",
       "mlp_1615662408_e19be324   [1.7225266695022583, 1.6626874208450317, 1.611...   \n",
       "mlp_1615662412_ddb748ec   [1.7175407409667969, 1.6343629360198975, 1.586...   \n",
       "mlp_1615664407_c3d5232d   [1.8021928071975708, 1.7308865785598755, 1.719...   \n",
       "mlp_1615664411_0f715dbc   [1.725937008857727, 1.712777853012085, 1.70307...   \n",
       "test_1615689900_dcda3596  [1.7286773920059204, 1.6468684673309326, 1.600...   \n",
       "\n",
       "                                                             train_accuracy  \\\n",
       "id                                                                            \n",
       "mlp_1615656464_eb63f1c0   [0.1729753464460373, 0.2315140813589096, 0.277...   \n",
       "mlp_1615656470_ffdc4734   [0.21478873491287231, 0.23503521084785461, 0.2...   \n",
       "mlp_1615656474_a157ccc3   [0.20246478915214539, 0.23503521084785461, 0.2...   \n",
       "mlp_1615656477_520a50bc   [0.1672535240650177, 0.16109155118465424, 0.20...   \n",
       "mlp_1615662400_c559f912   [0.2262323945760727, 0.28213027119636536, 0.31...   \n",
       "mlp_1615662404_abb8f887   [0.24295774102210999, 0.28213027119636536, 0.3...   \n",
       "mlp_1615662408_e19be324   [0.24119718372821808, 0.2922535240650177, 0.35...   \n",
       "mlp_1615662412_ddb748ec   [0.24779929220676422, 0.30765846371650696, 0.3...   \n",
       "mlp_1615664407_c3d5232d   [0.23019365966320038, 0.23503521084785461, 0.2...   \n",
       "mlp_1615664411_0f715dbc   [0.22931337356567383, 0.2389964759349823, 0.25...   \n",
       "test_1615689900_dcda3596  [0.23019365966320038, 0.32262325286865234, 0.3...   \n",
       "\n",
       "                                                                   val_loss  \\\n",
       "id                                                                            \n",
       "mlp_1615656464_eb63f1c0   [1.7528793811798096, 1.7180869579315186, 1.692...   \n",
       "mlp_1615656470_ffdc4734   [1.7806367874145508, 1.7706297636032104, 1.762...   \n",
       "mlp_1615656474_a157ccc3   [1.7273155450820923, 1.7236706018447876, 1.722...   \n",
       "mlp_1615656477_520a50bc   [2.6074233055114746, 1.9728984832763672, 1.739...   \n",
       "mlp_1615662400_c559f912   [1.7007421255111694, 1.6550861597061157, 1.627...   \n",
       "mlp_1615662404_abb8f887   [1.6752843856811523, 1.6190940141677856, 1.572...   \n",
       "mlp_1615662408_e19be324   [1.6789530515670776, 1.5968527793884277, 1.516...   \n",
       "mlp_1615662412_ddb748ec   [1.6526559591293335, 1.5529580116271973, 1.492...   \n",
       "mlp_1615664407_c3d5232d   [1.7397912740707397, 1.718546986579895, 1.7101...   \n",
       "mlp_1615664411_0f715dbc   [1.7117979526519775, 1.701743245124817, 1.6916...   \n",
       "test_1615689900_dcda3596  [1.6546682119369507, 1.7716423273086548, 1.517...   \n",
       "\n",
       "                                                               val_accuracy  \n",
       "id                                                                           \n",
       "mlp_1615656464_eb63f1c0   [0.17557251453399658, 0.3358778655529022, 0.30...  \n",
       "mlp_1615656470_ffdc4734   [0.23664122819900513, 0.23664122819900513, 0.2...  \n",
       "mlp_1615656474_a157ccc3   [0.23664122819900513, 0.23664122819900513, 0.2...  \n",
       "mlp_1615656477_520a50bc   [0.16030533611774445, 0.18320611119270325, 0.1...  \n",
       "mlp_1615662400_c559f912   [0.30534350872039795, 0.3129771053791046, 0.40...  \n",
       "mlp_1615662404_abb8f887   [0.28244274854660034, 0.30534350872039795, 0.3...  \n",
       "mlp_1615662408_e19be324   [0.23664122819900513, 0.2748091518878937, 0.48...  \n",
       "mlp_1615662412_ddb748ec   [0.3435114622116089, 0.37404578924179077, 0.35...  \n",
       "mlp_1615664407_c3d5232d   [0.23664122819900513, 0.23664122819900513, 0.2...  \n",
       "mlp_1615664411_0f715dbc   [0.23664122819900513, 0.23664122819900513, 0.2...  \n",
       "test_1615689900_dcda3596  [0.39694657921791077, 0.16030533611774445, 0.4...  "
      ]
     },
     "execution_count": 82,
     "metadata": {},
     "output_type": "execute_result"
    }
   ],
   "source": [
    "log = log_runs(runs2, 'cnn')\n",
    "log"
   ]
  },
  {
   "cell_type": "code",
   "execution_count": 83,
   "metadata": {},
   "outputs": [
    {
     "data": {
      "image/png": "[encoded data removed]",
      "text/plain": [
       "<Figure size 864x288 with 2 Axes>"
      ]
     },
     "metadata": {
      "needs_background": "light"
     },
     "output_type": "display_data"
    }
   ],
   "source": [
    "visualize_log(log.loc[[r.id for r in runs2]])"
   ]
  },
  {
   "cell_type": "code",
   "execution_count": 84,
   "metadata": {
    "scrolled": true
   },
   "outputs": [
    {
     "data": {
      "image/png": "[encoded data removed]",
      "text/plain": [
       "<Figure size 864x288 with 2 Axes>"
      ]
     },
     "metadata": {
      "needs_background": "light"
     },
     "output_type": "display_data"
    }
   ],
   "source": [
    "plot_accuracy(log.loc[[r.id for r in runs2]])"
   ]
  },
  {
   "cell_type": "markdown",
   "metadata": {},
   "source": [
    "The best performing was 23/64.  Try adding another convolution layer."
   ]
  },
  {
   "cell_type": "code",
   "execution_count": null,
   "metadata": {},
   "outputs": [],
   "source": []
  },
  {
   "cell_type": "code",
   "execution_count": null,
   "metadata": {},
   "outputs": [],
   "source": [
    "run3 = run2?"
   ]
  },
  {
   "cell_type": "markdown",
   "metadata": {},
   "source": [
    "# Test 2\n",
    "Add more convolutional layers to our best performing model so far"
   ]
  },
  {
   "cell_type": "markdown",
   "metadata": {},
   "source": [
    "### Model 4\n",
    "- Convolution Layer 1 nodes: 32\n",
    "- Convolution Layer 2 nodes: 64\n",
    "- Convolution Layer 2 nodes: 128\n",
    "- optimizer: sgd"
   ]
  },
  {
   "cell_type": "code",
   "execution_count": 27,
   "metadata": {},
   "outputs": [],
   "source": [
    "# Add existing models for comparison\n",
    "runs3 = [runs[0]]"
   ]
  },
  {
   "cell_type": "code",
   "execution_count": 30,
   "metadata": {
    "gather": {
     "logged": 1615499689695
    },
    "jupyter": {
     "outputs_hidden": false,
     "source_hidden": false
    },
    "nteract": {
     "transient": {
      "deleting": false
     }
    }
   },
   "outputs": [],
   "source": [
    "args = ['--data_path', dataset.as_named_input('input').as_mount(),\n",
    "        '--conv_nodes', '32,64,128',\n",
    "        '--conv_kernel_sizes', '[2,2],[2,2],[2,2]',\n",
    "        '--conv_activations', 'relu,relu,relu',\n",
    "        '--pool_sizes', '[2,2],[2,2],[2,2]', \n",
    "        '--dense_nodes', '64',\n",
    "        '--dense_activations', 'relu',\n",
    "        '--optimizer', 'sgd',\n",
    "        '--epochs', '50']\n",
    "\n",
    "src = ScriptRunConfig(source_directory='cnn_train_script/',\n",
    "                      script='train.py', \n",
    "                      arguments=args,\n",
    "                      compute_target=compute_target,\n",
    "                      environment=env)"
   ]
  },
  {
   "cell_type": "code",
   "execution_count": 31,
   "metadata": {},
   "outputs": [],
   "source": [
    "runs3.append(exp.submit(config=src))\n",
    "\n",
    "# Add name and tags for tracking\n",
    "runs3[-1].add_properties({'name': 'conv32-64-128-dense64'})\n",
    "\n",
    "runs3[-1].tag('class', 'cnn')\n",
    "runs3[-1].tag('activation', 'relu')\n",
    "runs3[-1].tag('optimizer', 'sgd')\n",
    "runs3[-1].tag('hidden layers', '4')\n",
    "runs3[-1].tag('convolution layers', '3')\n",
    "runs3[-1].tag('dense layers', '1')"
   ]
  },
  {
   "cell_type": "markdown",
   "metadata": {},
   "source": [
    "# Start Tensorboard to monitor runs"
   ]
  },
  {
   "cell_type": "code",
   "execution_count": 136,
   "metadata": {
    "jupyter": {
     "outputs_hidden": false,
     "source_hidden": false
    },
    "nteract": {
     "transient": {
      "deleting": false
     }
    }
   },
   "outputs": [
    {
     "name": "stdout",
     "output_type": "stream",
     "text": [
      "http://localhost:6006/\n"
     ]
    },
    {
     "data": {
      "text/plain": [
       "'http://localhost:6006/'"
      ]
     },
     "execution_count": 136,
     "metadata": {},
     "output_type": "execute_result"
    }
   ],
   "source": [
    "# Start Tensor board to monitor the run\n",
    "tb = Tensorboard(runs3)\n",
    "tb.start()"
   ]
  },
  {
   "cell_type": "code",
   "execution_count": 121,
   "metadata": {
    "jupyter": {
     "outputs_hidden": false,
     "source_hidden": false
    },
    "nteract": {
     "transient": {
      "deleting": false
     }
    }
   },
   "outputs": [],
   "source": [
    "# After your job completes, be sure to stop() the streaming otherwise it will continue to run. \n",
    "tb.stop()"
   ]
  },
  {
   "cell_type": "markdown",
   "metadata": {},
   "source": [
    "### Evaluate runs"
   ]
  },
  {
   "cell_type": "code",
   "execution_count": 32,
   "metadata": {},
   "outputs": [
    {
     "data": {
      "text/plain": [
       "[Run(Experiment: cnn,\n",
       " Id: cnn_1615742146_d03a61e5,\n",
       " Type: azureml.scriptrun,\n",
       " Status: Completed),\n",
       " Run(Experiment: cnn,\n",
       " Id: cnn_1615761762_0bcb4c58,\n",
       " Type: azureml.scriptrun,\n",
       " Status: Preparing)]"
      ]
     },
     "execution_count": 32,
     "metadata": {},
     "output_type": "execute_result"
    }
   ],
   "source": [
    "runs3"
   ]
  },
  {
   "cell_type": "code",
   "execution_count": 34,
   "metadata": {},
   "outputs": [
    {
     "data": {
      "text/plain": [
       "{'test_loss': 1.5096192359924316, 'test_accuracy': 0.5483871102333069}"
      ]
     },
     "metadata": {},
     "output_type": "display_data"
    },
    {
     "data": {
      "text/plain": [
       "{'test_loss': 1.2297978401184082, 'test_accuracy': 0.5887096524238586}"
      ]
     },
     "metadata": {},
     "output_type": "display_data"
    },
    {
     "data": {
      "text/html": [
       "<div>\n",
       "<style scoped>\n",
       "    .dataframe tbody tr th:only-of-type {\n",
       "        vertical-align: middle;\n",
       "    }\n",
       "\n",
       "    .dataframe tbody tr th {\n",
       "        vertical-align: top;\n",
       "    }\n",
       "\n",
       "    .dataframe thead th {\n",
       "        text-align: right;\n",
       "    }\n",
       "</style>\n",
       "<table border=\"1\" class=\"dataframe\">\n",
       "  <thead>\n",
       "    <tr style=\"text-align: right;\">\n",
       "      <th></th>\n",
       "      <th>name</th>\n",
       "      <th>type</th>\n",
       "      <th>test_loss</th>\n",
       "      <th>test_accuracy</th>\n",
       "      <th>train_loss</th>\n",
       "      <th>train_accuracy</th>\n",
       "      <th>val_loss</th>\n",
       "      <th>val_accuracy</th>\n",
       "    </tr>\n",
       "  </thead>\n",
       "  <tbody>\n",
       "    <tr>\n",
       "      <th>cnn_1615742146_d03a61e5</th>\n",
       "      <td>conv32-64dense64</td>\n",
       "      <td>cnn</td>\n",
       "      <td>1.509619</td>\n",
       "      <td>0.548387</td>\n",
       "      <td>[1.7262964248657227, 1.66776704788208, 1.62684...</td>\n",
       "      <td>[0.21610915660858154, 0.2865316867828369, 0.34...</td>\n",
       "      <td>[1.6832735538482666, 1.5840280055999756, 1.523...</td>\n",
       "      <td>[0.23664122819900513, 0.40458014607429504, 0.4...</td>\n",
       "    </tr>\n",
       "    <tr>\n",
       "      <th>cnn_1615761762_0bcb4c58</th>\n",
       "      <td>conv32-64-128-dense64</td>\n",
       "      <td>cnn</td>\n",
       "      <td>1.229798</td>\n",
       "      <td>0.588710</td>\n",
       "      <td>[1.703869342803955, 1.6235040426254272, 1.5749...</td>\n",
       "      <td>[0.23943662643432617, 0.33362674713134766, 0.3...</td>\n",
       "      <td>[1.6368883848190308, 1.6203343868255615, 1.451...</td>\n",
       "      <td>[0.32824426889419556, 0.2671755850315094, 0.39...</td>\n",
       "    </tr>\n",
       "  </tbody>\n",
       "</table>\n",
       "</div>"
      ],
      "text/plain": [
       "                                          name type  test_loss  test_accuracy  \\\n",
       "cnn_1615742146_d03a61e5       conv32-64dense64  cnn   1.509619       0.548387   \n",
       "cnn_1615761762_0bcb4c58  conv32-64-128-dense64  cnn   1.229798       0.588710   \n",
       "\n",
       "                                                                train_loss  \\\n",
       "cnn_1615742146_d03a61e5  [1.7262964248657227, 1.66776704788208, 1.62684...   \n",
       "cnn_1615761762_0bcb4c58  [1.703869342803955, 1.6235040426254272, 1.5749...   \n",
       "\n",
       "                                                            train_accuracy  \\\n",
       "cnn_1615742146_d03a61e5  [0.21610915660858154, 0.2865316867828369, 0.34...   \n",
       "cnn_1615761762_0bcb4c58  [0.23943662643432617, 0.33362674713134766, 0.3...   \n",
       "\n",
       "                                                                  val_loss  \\\n",
       "cnn_1615742146_d03a61e5  [1.6832735538482666, 1.5840280055999756, 1.523...   \n",
       "cnn_1615761762_0bcb4c58  [1.6368883848190308, 1.6203343868255615, 1.451...   \n",
       "\n",
       "                                                              val_accuracy  \n",
       "cnn_1615742146_d03a61e5  [0.23664122819900513, 0.40458014607429504, 0.4...  \n",
       "cnn_1615761762_0bcb4c58  [0.32824426889419556, 0.2671755850315094, 0.39...  "
      ]
     },
     "execution_count": 34,
     "metadata": {},
     "output_type": "execute_result"
    }
   ],
   "source": [
    "log = log_runs(runs3, 'cnn')\n",
    "log"
   ]
  },
  {
   "cell_type": "code",
   "execution_count": 35,
   "metadata": {},
   "outputs": [
    {
     "data": {
      "image/png": "[encoded data removed]",
      "text/plain": [
       "<Figure size 864x288 with 2 Axes>"
      ]
     },
     "metadata": {
      "needs_background": "light"
     },
     "output_type": "display_data"
    },
    {
     "data": {
      "image/png": "[encoded data removed]",
      "text/plain": [
       "<Figure size 864x288 with 2 Axes>"
      ]
     },
     "metadata": {
      "needs_background": "light"
     },
     "output_type": "display_data"
    }
   ],
   "source": [
    "visualize_log(log.loc[[r.id for r in runs3]])"
   ]
  },
  {
   "cell_type": "code",
   "execution_count": 84,
   "metadata": {
    "scrolled": true
   },
   "outputs": [
    {
     "data": {
      "image/png": "[encoded data removed]",
      "text/plain": [
       "<Figure size 864x288 with 2 Axes>"
      ]
     },
     "metadata": {
      "needs_background": "light"
     },
     "output_type": "display_data"
    }
   ],
   "source": [
    "plot_accuracy(log.loc[[r.id for r in runs2]])"
   ]
  },
  {
   "cell_type": "markdown",
   "metadata": {},
   "source": [
    "Talk about runs here."
   ]
  }
 ],
 "metadata": {
  "kernel_info": {
   "name": "python3-azureml"
  },
  "kernelspec": {
   "display_name": "Python [conda env:ml]",
   "language": "python",
   "name": "conda-env-ml-py"
  },
  "language_info": {
   "codemirror_mode": {
    "name": "ipython",
    "version": 3
   },
   "file_extension": ".py",
   "mimetype": "text/x-python",
   "name": "python",
   "nbconvert_exporter": "python",
   "pygments_lexer": "ipython3",
   "version": "3.7.10"
  },
  "microsoft": {
   "host": {
    "AzureML": {
     "notebookHasBeenCompleted": true
    }
   }
  },
  "nteract": {
   "version": "nteract-front-end@1.0.0"
  },
  "toc": {
   "base_numbering": 1,
   "nav_menu": {},
   "number_sections": true,
   "sideBar": true,
   "skip_h1_title": false,
   "title_cell": "Table of Contents",
   "title_sidebar": "Contents",
   "toc_cell": false,
   "toc_position": {
    "height": "calc(100% - 180px)",
    "left": "10px",
    "top": "150px",
    "width": "327.8px"
   },
   "toc_section_display": true,
   "toc_window_display": true
  }
 },
 "nbformat": 4,
 "nbformat_minor": 2
}
