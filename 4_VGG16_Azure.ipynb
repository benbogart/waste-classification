{
 "cells": [
  {
   "cell_type": "markdown",
   "metadata": {},
   "source": [
    "# VGG16\n",
    "This notebook is part of the waste image classification project.\n",
    "\n",
    "Here we explore the viability of the pre-trained VGG16 model for waste image classification."
   ]
  },
  {
   "cell_type": "code",
   "execution_count": 1,
   "metadata": {
    "gather": {
     "logged": 1615476874604
    },
    "jupyter": {
     "outputs_hidden": false,
     "source_hidden": false
    },
    "nteract": {
     "transient": {
      "deleting": false
     }
    }
   },
   "outputs": [],
   "source": [
    "import os\n",
    "import shutil\n",
    "import pickle\n",
    "\n",
    "import pandas as pd\n",
    "\n",
    "import numpy as np\n",
    "import matplotlib.pyplot as plt\n",
    "%matplotlib inline\n",
    "\n",
    "from tensorflow.keras.preprocessing.image import (ImageDataGenerator, array_to_img, \n",
    "                                       img_to_array, load_img)\n",
    "from tensorflow.keras import callbacks, models, layers, losses\n",
    "\n",
    "from azureml.core import Workspace, Dataset, ScriptRunConfig\n",
    "from azureml.tensorboard import Tensorboard\n",
    "from azureml.core.environment import Environment\n",
    "\n",
    "from tensorflow.keras.applications.vgg16 import VGG16\n",
    "\n",
    "from utils import log_runs, visualize_log, plot_accuracy"
   ]
  },
  {
   "cell_type": "markdown",
   "metadata": {},
   "source": [
    "# Setup\n",
    "\n",
    "Load in the resources created in the first notebook and setup for this set of experiments."
   ]
  },
  {
   "cell_type": "code",
   "execution_count": 2,
   "metadata": {},
   "outputs": [],
   "source": [
    "# Load the stored workspace\n",
    "ws = Workspace.from_config()"
   ]
  },
  {
   "cell_type": "code",
   "execution_count": 3,
   "metadata": {
    "gather": {
     "logged": 1615476539497
    }
   },
   "outputs": [],
   "source": [
    "# Get the registered dataset from azure\n",
    "dataset = Dataset.get_by_name(ws, name='waste_images')"
   ]
  },
  {
   "cell_type": "code",
   "execution_count": 4,
   "metadata": {},
   "outputs": [],
   "source": [
    "## Try with our saved image\n",
    "env = Environment.get(workspace=ws, name=\"waste-env-gpu\")"
   ]
  },
  {
   "cell_type": "code",
   "execution_count": 5,
   "metadata": {},
   "outputs": [],
   "source": [
    "# get our compoute cluster\n",
    "# for cnn we will use a gpu cluster\n",
    "compute_name = \"gpu-cluster-NC6\"\n",
    "compute_target = ws.compute_targets[compute_name]"
   ]
  },
  {
   "cell_type": "code",
   "execution_count": 6,
   "metadata": {},
   "outputs": [],
   "source": [
    "# set the expiriment\n",
    "experiment_name = 'vgg16'\n",
    "from azureml.core import Experiment\n",
    "exp = Experiment(workspace=ws, name=experiment_name)"
   ]
  },
  {
   "cell_type": "code",
   "execution_count": 7,
   "metadata": {},
   "outputs": [
    {
     "data": {
      "text/plain": [
       "'vgg16_train_script/utils.py'"
      ]
     },
     "execution_count": 7,
     "metadata": {},
     "output_type": "execute_result"
    }
   ],
   "source": [
    "script_path = 'vgg16_train_script/'\n",
    "\n",
    "if not os.path.exists(script_path):\n",
    "    os.mkdir(script_path)\n",
    "\n",
    "# move the file to the upload dir\n",
    "shutil.copy('utils.py', script_path)\n"
   ]
  },
  {
   "cell_type": "markdown",
   "metadata": {},
   "source": [
    "# Inspect VGG16\n",
    "Check which layers are missing in the headless version of the model."
   ]
  },
  {
   "cell_type": "code",
   "execution_count": 8,
   "metadata": {
    "scrolled": true
   },
   "outputs": [
    {
     "name": "stdout",
     "output_type": "stream",
     "text": [
      "Model: \"vgg16\"\n",
      "_________________________________________________________________\n",
      "Layer (type)                 Output Shape              Param #   \n",
      "=================================================================\n",
      "input_1 (InputLayer)         [(None, 224, 224, 3)]     0         \n",
      "_________________________________________________________________\n",
      "block1_conv1 (Conv2D)        (None, 224, 224, 64)      1792      \n",
      "_________________________________________________________________\n",
      "block1_conv2 (Conv2D)        (None, 224, 224, 64)      36928     \n",
      "_________________________________________________________________\n",
      "block1_pool (MaxPooling2D)   (None, 112, 112, 64)      0         \n",
      "_________________________________________________________________\n",
      "block2_conv1 (Conv2D)        (None, 112, 112, 128)     73856     \n",
      "_________________________________________________________________\n",
      "block2_conv2 (Conv2D)        (None, 112, 112, 128)     147584    \n",
      "_________________________________________________________________\n",
      "block2_pool (MaxPooling2D)   (None, 56, 56, 128)       0         \n",
      "_________________________________________________________________\n",
      "block3_conv1 (Conv2D)        (None, 56, 56, 256)       295168    \n",
      "_________________________________________________________________\n",
      "block3_conv2 (Conv2D)        (None, 56, 56, 256)       590080    \n",
      "_________________________________________________________________\n",
      "block3_conv3 (Conv2D)        (None, 56, 56, 256)       590080    \n",
      "_________________________________________________________________\n",
      "block3_pool (MaxPooling2D)   (None, 28, 28, 256)       0         \n",
      "_________________________________________________________________\n",
      "block4_conv1 (Conv2D)        (None, 28, 28, 512)       1180160   \n",
      "_________________________________________________________________\n",
      "block4_conv2 (Conv2D)        (None, 28, 28, 512)       2359808   \n",
      "_________________________________________________________________\n",
      "block4_conv3 (Conv2D)        (None, 28, 28, 512)       2359808   \n",
      "_________________________________________________________________\n",
      "block4_pool (MaxPooling2D)   (None, 14, 14, 512)       0         \n",
      "_________________________________________________________________\n",
      "block5_conv1 (Conv2D)        (None, 14, 14, 512)       2359808   \n",
      "_________________________________________________________________\n",
      "block5_conv2 (Conv2D)        (None, 14, 14, 512)       2359808   \n",
      "_________________________________________________________________\n",
      "block5_conv3 (Conv2D)        (None, 14, 14, 512)       2359808   \n",
      "_________________________________________________________________\n",
      "block5_pool (MaxPooling2D)   (None, 7, 7, 512)         0         \n",
      "_________________________________________________________________\n",
      "flatten (Flatten)            (None, 25088)             0         \n",
      "_________________________________________________________________\n",
      "fc1 (Dense)                  (None, 4096)              102764544 \n",
      "_________________________________________________________________\n",
      "fc2 (Dense)                  (None, 4096)              16781312  \n",
      "_________________________________________________________________\n",
      "predictions (Dense)          (None, 1000)              4097000   \n",
      "=================================================================\n",
      "Total params: 138,357,544\n",
      "Trainable params: 138,357,544\n",
      "Non-trainable params: 0\n",
      "_________________________________________________________________\n"
     ]
    }
   ],
   "source": [
    "vgg = VGG16()\n",
    "vgg.summary()"
   ]
  },
  {
   "cell_type": "code",
   "execution_count": 9,
   "metadata": {
    "scrolled": true
   },
   "outputs": [
    {
     "name": "stdout",
     "output_type": "stream",
     "text": [
      "Model: \"vgg16\"\n",
      "_________________________________________________________________\n",
      "Layer (type)                 Output Shape              Param #   \n",
      "=================================================================\n",
      "input_2 (InputLayer)         [(None, None, None, 3)]   0         \n",
      "_________________________________________________________________\n",
      "block1_conv1 (Conv2D)        (None, None, None, 64)    1792      \n",
      "_________________________________________________________________\n",
      "block1_conv2 (Conv2D)        (None, None, None, 64)    36928     \n",
      "_________________________________________________________________\n",
      "block1_pool (MaxPooling2D)   (None, None, None, 64)    0         \n",
      "_________________________________________________________________\n",
      "block2_conv1 (Conv2D)        (None, None, None, 128)   73856     \n",
      "_________________________________________________________________\n",
      "block2_conv2 (Conv2D)        (None, None, None, 128)   147584    \n",
      "_________________________________________________________________\n",
      "block2_pool (MaxPooling2D)   (None, None, None, 128)   0         \n",
      "_________________________________________________________________\n",
      "block3_conv1 (Conv2D)        (None, None, None, 256)   295168    \n",
      "_________________________________________________________________\n",
      "block3_conv2 (Conv2D)        (None, None, None, 256)   590080    \n",
      "_________________________________________________________________\n",
      "block3_conv3 (Conv2D)        (None, None, None, 256)   590080    \n",
      "_________________________________________________________________\n",
      "block3_pool (MaxPooling2D)   (None, None, None, 256)   0         \n",
      "_________________________________________________________________\n",
      "block4_conv1 (Conv2D)        (None, None, None, 512)   1180160   \n",
      "_________________________________________________________________\n",
      "block4_conv2 (Conv2D)        (None, None, None, 512)   2359808   \n",
      "_________________________________________________________________\n",
      "block4_conv3 (Conv2D)        (None, None, None, 512)   2359808   \n",
      "_________________________________________________________________\n",
      "block4_pool (MaxPooling2D)   (None, None, None, 512)   0         \n",
      "_________________________________________________________________\n",
      "block5_conv1 (Conv2D)        (None, None, None, 512)   2359808   \n",
      "_________________________________________________________________\n",
      "block5_conv2 (Conv2D)        (None, None, None, 512)   2359808   \n",
      "_________________________________________________________________\n",
      "block5_conv3 (Conv2D)        (None, None, None, 512)   2359808   \n",
      "_________________________________________________________________\n",
      "block5_pool (MaxPooling2D)   (None, None, None, 512)   0         \n",
      "=================================================================\n",
      "Total params: 14,714,688\n",
      "Trainable params: 14,714,688\n",
      "Non-trainable params: 0\n",
      "_________________________________________________________________\n"
     ]
    }
   ],
   "source": [
    "vgg_headless = VGG16(include_top=False)\n",
    "vgg_headless.summary()"
   ]
  },
  {
   "cell_type": "markdown",
   "metadata": {},
   "source": [
    "From this comparison we can see that the headless model is missing:\n",
    "- a flattening layer\n",
    "- two fully connected layers\n",
    "- and an output predicion layer\n",
    "\n",
    "We will add those to the control script for training."
   ]
  },
  {
   "cell_type": "markdown",
   "metadata": {
    "nteract": {
     "transient": {
      "deleting": false
     }
    }
   },
   "source": [
    "## Write control script\n",
    "\n",
    "The control script will be uploaded to aml instances in azure.  Images are cached in Azure, so parameterizing the script results in faster run times than submitting new scrips for each run.  It also allows for faster iteration"
   ]
  },
  {
   "cell_type": "code",
   "execution_count": 10,
   "metadata": {
    "jupyter": {
     "outputs_hidden": false,
     "source_hidden": false
    },
    "nteract": {
     "transient": {
      "deleting": false
     }
    }
   },
   "outputs": [
    {
     "name": "stdout",
     "output_type": "stream",
     "text": [
      "Overwriting vgg16_train_script/train.py\n"
     ]
    }
   ],
   "source": [
    "%%writefile vgg16_train_script/train.py\n",
    "\n",
    "import argparse\n",
    "import os\n",
    "import shutil\n",
    "import numpy as np\n",
    "import pickle\n",
    "\n",
    "from azureml.core import Run\n",
    "from azureml.core import Workspace, Dataset\n",
    "\n",
    "from tensorflow.keras.preprocessing.image import (ImageDataGenerator, array_to_img, \n",
    "                                       img_to_array)\n",
    "from tensorflow.keras import callbacks\n",
    "from tensorflow.keras import models\n",
    "from tensorflow.keras import layers\n",
    "from tensorflow.keras import losses\n",
    "\n",
    "from tensorflow.keras.applications.vgg16 import VGG16\n",
    "\n",
    "from utils import count_files\n",
    "\n",
    "# set seed for reproducibility\n",
    "np.random.seed(867)\n",
    "\n",
    "# output will be logged, separate output from previous log entries.\n",
    "print('-'*100)\n",
    "\n",
    "# parse the parameters passed to the this script\n",
    "parser = argparse.ArgumentParser()\n",
    "parser.add_argument('--data_path', type=str, \n",
    "                    dest='data_path', \n",
    "                    default='data', \n",
    "                    help='data folder mounting point')\n",
    "    \n",
    "parser.add_argument('--dense_nodes', \n",
    "                    type=str, \n",
    "                    dest='dense_nodes', \n",
    "                    default='32', \n",
    "                    help='number of nodes in each layer (comma separated)')\n",
    "parser.add_argument('--dense_activations', \n",
    "                    type=str, \n",
    "                    dest='dense_activations', \n",
    "                    default='relu', \n",
    "                    help='activation function to use on hidden layers (comma separated)')\n",
    "\n",
    "parser.add_argument('--optimizer', \n",
    "                    type=str, \n",
    "                    dest='optimizer', \n",
    "                    default='sgd', \n",
    "                    help='optimizer to use')\n",
    "parser.add_argument('--epochs', \n",
    "                    type=int, \n",
    "                    dest='epochs', \n",
    "                    default=5, \n",
    "                    help='number of epochs to try.')\n",
    "args = parser.parse_args()\n",
    "\n",
    "# split list args into lists\n",
    "dense_nodes = args.dense_nodes.split(',')\n",
    "dense_activations = args.dense_activations.split(',')\n",
    "\n",
    "# print to log for debuggig if necessary\n",
    "print('Data folder:',args.data_path)\n",
    "\n",
    "print('Dense Nodes:', dense_nodes)\n",
    "print('Dense Activations:', dense_activations)\n",
    "\n",
    "# get azure run context\n",
    "run = Run.get_context()\n",
    "print('Environment:',run.get_environment().name)\n",
    "\n",
    "\n",
    "# set data paths\n",
    "train_folder = os.path.join(args.data_path, 'train')\n",
    "val_folder = os.path.join(args.data_path, 'validation')\n",
    "test_folder = os.path.join(args.data_path, 'test')\n",
    "\n",
    "# count the number of files in each split\n",
    "num_train = count_files(train_folder)\n",
    "num_val = count_files(val_folder)\n",
    "num_test = count_files(test_folder)\n",
    "\n",
    "# print number of files in each split to log\n",
    "print('Num Train Files:', num_train)\n",
    "print('Num Val Files:', num_val)\n",
    "print('Num Test Files:', num_test)\n",
    "\n",
    "\n",
    "# Create generators for importing the images\n",
    "print('Creating train ImageDataGenerator')\n",
    "train_generator = ImageDataGenerator(rescale=1/255)\\\n",
    "                        .flow_from_directory(train_folder,\n",
    "                                             target_size = (244, 244),\n",
    "                                             batch_size = 32)\n",
    "print('Creating validation ImageDataGenerator')\n",
    "val_generator = ImageDataGenerator(rescale=1/255)\\\n",
    "                        .flow_from_directory(val_folder,\n",
    "                                             target_size = (244, 244),\n",
    "                                             batch_size = num_val)\n",
    "print('Creating test ImageDataGenerator')\n",
    "test_generator = ImageDataGenerator(rescale=1/255)\\\n",
    "                        .flow_from_directory(test_folder,\n",
    "                                             target_size = (244, 244),\n",
    "                                             batch_size = num_test)\n",
    "\n",
    "# model callbacks\n",
    "my_callbacks = [\n",
    "    callbacks.EarlyStopping(patience=3),\n",
    "    callbacks.ModelCheckpoint(filepath=f'outputs/{run.id}.h5',\n",
    "                              save_best_only=True),\n",
    "    callbacks.TensorBoard(log_dir=f'logs/{run.properties[\"name\"]}/',\n",
    "                          histogram_freq=1,\n",
    "                          profile_batch=0)\n",
    "]\n",
    "\n",
    "\n",
    "\n",
    "# Build the model\n",
    "model = models.Sequential()\n",
    "\n",
    "VGG = VGG16(weights='imagenet', include_top=False, input_shape=(244,244,3))\n",
    "\n",
    "# Freeze Model\n",
    "VGG.trainable = False\n",
    "\n",
    "model.add(VGG)\n",
    "model.add(layers.Flatten())\n",
    "\n",
    "# create hidden layers based on parameters\n",
    "for node, activation in zip(dense_nodes, dense_activations):\n",
    "    print(f'Creating Dense layer with {node} nodes and activation={activation}')\n",
    "    model.add(layers.Dense(node, activation=activation))\n",
    "\n",
    "# final layer for classification\n",
    "model.add(layers.Dense(6, activation='softmax'))\n",
    "\n",
    "model.compile(optimizer=args.optimizer,\n",
    "              loss='categorical_crossentropy',\n",
    "              metrics=['acc'])\n",
    "\n",
    "# fit model and store history\n",
    "STEP_SIZE_TRAIN=train_generator.n//train_generator.batch_size\n",
    "STEP_SIZE_VALID=val_generator.n//val_generator.batch_size\n",
    "history = model.fit(train_generator,\n",
    "                    steps_per_epoch=STEP_SIZE_TRAIN,\n",
    "                    validation_data=val_generator,\n",
    "                    validation_steps=STEP_SIZE_VALID,\n",
    "                    epochs=args.epochs,\n",
    "                    callbacks=my_callbacks)\n",
    "\n",
    "print('Saving model history...')\n",
    "with open(f'outputs/{run.id}.history', 'wb') as f:\n",
    "    pickle.dump(history.history, f)\n",
    "\n",
    "# print model summary to log\n",
    "model.summary()\n",
    "\n",
    "print('evaluating model on test set...')\n",
    "model_val = model.evaluate(test_generator)\n",
    "\n",
    "print('Test Loss:', model_val[0])\n",
    "print('Test Accuracy:', model_val[1])\n",
    "\n",
    "run.log('test_loss', np.float(model_val[0]))\n",
    "run.log('test_accuracy', np.float(model_val[1]))\n",
    "\n",
    "print('Done!')\n",
    "print('-'*100)"
   ]
  },
  {
   "cell_type": "markdown",
   "metadata": {},
   "source": [
    "## Iterate models\n",
    "\n",
    "Now that we have a control script we can start submitting runs of various models to azure compute.  They will run asynchronously in parallel which will make this process comparatively fast."
   ]
  },
  {
   "cell_type": "code",
   "execution_count": 11,
   "metadata": {},
   "outputs": [],
   "source": [
    "# create var to stor run objects\n",
    "runs = []"
   ]
  },
  {
   "cell_type": "markdown",
   "metadata": {},
   "source": [
    "## Model 1\n",
    "* activation: relu\n",
    "- optimizer: SGD"
   ]
  },
  {
   "cell_type": "code",
   "execution_count": 12,
   "metadata": {
    "gather": {
     "logged": 1615499689695
    },
    "jupyter": {
     "outputs_hidden": false,
     "source_hidden": false
    },
    "nteract": {
     "transient": {
      "deleting": false
     }
    }
   },
   "outputs": [],
   "source": [
    "args = ['--data_path', dataset.as_named_input('input').as_mount(),\n",
    "        '--dense_nodes', '4096,4096',\n",
    "        '--dense_activations', 'relu,relu',\n",
    "        '--optimizer', 'sgd',\n",
    "        '--epochs', '50']\n",
    "\n",
    "src = ScriptRunConfig(source_directory=script_path,\n",
    "                      script='train.py', \n",
    "                      arguments=args,\n",
    "                      compute_target=compute_target,\n",
    "                      environment=env)"
   ]
  },
  {
   "cell_type": "code",
   "execution_count": 13,
   "metadata": {},
   "outputs": [],
   "source": [
    "runs.append(exp.submit(config=src))\n",
    "\n",
    "# Add name and tags for tracking\n",
    "runs[-1].add_properties({'name': 'vgg16-relu-sgd'})\n",
    "\n",
    "runs[-1].tag('class', 'VGG16')\n",
    "runs[-1].tag('activation', 'relu')\n",
    "runs[-1].tag('optimizer', 'sgd')"
   ]
  },
  {
   "cell_type": "markdown",
   "metadata": {},
   "source": [
    "## Model 2\n",
    "Activation: relu\n",
    "Optimizer: Adam"
   ]
  },
  {
   "cell_type": "code",
   "execution_count": 14,
   "metadata": {
    "gather": {
     "logged": 1615499689695
    },
    "jupyter": {
     "outputs_hidden": false,
     "source_hidden": false
    },
    "nteract": {
     "transient": {
      "deleting": false
     }
    }
   },
   "outputs": [],
   "source": [
    "args = ['--data_path', dataset.as_named_input('input').as_mount(),\n",
    "        '--dense_nodes', '4096,4096',\n",
    "        '--dense_activations', 'relu,relu',\n",
    "        '--optimizer', 'adam',\n",
    "        '--epochs', '50']\n",
    "\n",
    "src = ScriptRunConfig(source_directory=script_path,\n",
    "                      script='train.py', \n",
    "                      arguments=args,\n",
    "                      compute_target=compute_target,\n",
    "                      environment=env)"
   ]
  },
  {
   "cell_type": "code",
   "execution_count": 15,
   "metadata": {},
   "outputs": [],
   "source": [
    "runs.append(exp.submit(config=src))\n",
    "\n",
    "# Add name and tags for tracking\n",
    "runs[-1].add_properties({'name': 'vgg16-relu-adam'})\n",
    "\n",
    "runs[-1].tag('class', 'VGG16')\n",
    "runs[-1].tag('activation', 'relu')\n",
    "runs[-1].tag('optimizer', 'adam')"
   ]
  },
  {
   "cell_type": "markdown",
   "metadata": {},
   "source": [
    "## Model 3\n",
    "* Activation: relu\n",
    "* Optimizer: SGD"
   ]
  },
  {
   "cell_type": "code",
   "execution_count": 16,
   "metadata": {
    "gather": {
     "logged": 1615499689695
    },
    "jupyter": {
     "outputs_hidden": false,
     "source_hidden": false
    },
    "nteract": {
     "transient": {
      "deleting": false
     }
    }
   },
   "outputs": [],
   "source": [
    "args = ['--data_path', dataset.as_named_input('input').as_mount(),\n",
    "        '--dense_nodes', '4096,4096',\n",
    "        '--dense_activations', 'relu,relu',\n",
    "        '--optimizer', 'sgd',\n",
    "        '--epochs', '50']\n",
    "\n",
    "src = ScriptRunConfig(source_directory=script_path,\n",
    "                      script='train.py', \n",
    "                      arguments=args,\n",
    "                      compute_target=compute_target,\n",
    "                      environment=env)"
   ]
  },
  {
   "cell_type": "code",
   "execution_count": 17,
   "metadata": {},
   "outputs": [],
   "source": [
    "runs.append(exp.submit(config=src))\n",
    "\n",
    "# Add name and tags for tracking\n",
    "runs[-1].add_properties({'name': 'vgg16-relu-sgd'})\n",
    "\n",
    "runs[-1].tag('class', 'VGG16')\n",
    "runs[-1].tag('activation', 'relu')\n",
    "runs[-1].tag('optimizer', 'sgd')"
   ]
  },
  {
   "cell_type": "markdown",
   "metadata": {},
   "source": [
    "## Model 4\n",
    "* Activation: sigmoid\n",
    "* Optimizer: Adam"
   ]
  },
  {
   "cell_type": "code",
   "execution_count": 18,
   "metadata": {
    "gather": {
     "logged": 1615499689695
    },
    "jupyter": {
     "outputs_hidden": false,
     "source_hidden": false
    },
    "nteract": {
     "transient": {
      "deleting": false
     }
    }
   },
   "outputs": [],
   "source": [
    "args = ['--data_path', dataset.as_named_input('input').as_mount(),\n",
    "        '--dense_nodes', '4096,4096',\n",
    "        '--dense_activations', 'sigmoid,sigmoid',\n",
    "        '--optimizer', 'adam',\n",
    "        '--epochs', '50']\n",
    "\n",
    "src = ScriptRunConfig(source_directory=script_path,\n",
    "                      script='train.py', \n",
    "                      arguments=args,\n",
    "                      compute_target=compute_target,\n",
    "                      environment=env)"
   ]
  },
  {
   "cell_type": "code",
   "execution_count": 19,
   "metadata": {},
   "outputs": [],
   "source": [
    "runs.append(exp.submit(config=src))\n",
    "\n",
    "# Add name and tags for tracking\n",
    "runs[-1].add_properties({'name': 'vgg16-sigmoid-adam'})\n",
    "\n",
    "runs[-1].tag('class', 'VGG16')\n",
    "runs[-1].tag('activation', 'sigmoid')\n",
    "runs[-1].tag('optimizer', 'adam')"
   ]
  },
  {
   "cell_type": "markdown",
   "metadata": {},
   "source": [
    "## Start Tensorboard to monitor the runs"
   ]
  },
  {
   "cell_type": "code",
   "execution_count": 20,
   "metadata": {
    "jupyter": {
     "outputs_hidden": false,
     "source_hidden": false
    },
    "nteract": {
     "transient": {
      "deleting": false
     }
    }
   },
   "outputs": [
    {
     "name": "stdout",
     "output_type": "stream",
     "text": [
      "http://localhost:6006/\n"
     ]
    },
    {
     "data": {
      "text/plain": [
       "'http://localhost:6006/'"
      ]
     },
     "execution_count": 20,
     "metadata": {},
     "output_type": "execute_result"
    }
   ],
   "source": [
    "# Start Tensor board to monitor the run\n",
    "tb = Tensorboard(runs)\n",
    "tb.start()"
   ]
  },
  {
   "cell_type": "code",
   "execution_count": 21,
   "metadata": {
    "jupyter": {
     "outputs_hidden": false,
     "source_hidden": false
    },
    "nteract": {
     "transient": {
      "deleting": false
     }
    }
   },
   "outputs": [],
   "source": [
    "# After your job completes, be sure to stop() the streaming otherwise it will continue to run. \n",
    "tb.stop()"
   ]
  },
  {
   "cell_type": "markdown",
   "metadata": {},
   "source": [
    "## Evaluate Models"
   ]
  },
  {
   "cell_type": "code",
   "execution_count": 22,
   "metadata": {},
   "outputs": [],
   "source": [
    "# make sure all runs are complete\n",
    "for run in runs:\n",
    "    run.wait_for_completion(show_output=False, \n",
    "                            wait_post_processing=True, \n",
    "                            raise_on_error=True)"
   ]
  },
  {
   "cell_type": "code",
   "execution_count": 23,
   "metadata": {},
   "outputs": [
    {
     "data": {
      "text/plain": [
       "{'test_loss': 0.9735111594200134, 'test_accuracy': 0.6693548560142517}"
      ]
     },
     "metadata": {},
     "output_type": "display_data"
    },
    {
     "data": {
      "text/plain": [
       "{'test_loss': 1.0545791387557983, 'test_accuracy': 0.725806474685669}"
      ]
     },
     "metadata": {},
     "output_type": "display_data"
    },
    {
     "data": {
      "text/plain": [
       "{'test_loss': 1.2966604232788086, 'test_accuracy': 0.5887096524238586}"
      ]
     },
     "metadata": {},
     "output_type": "display_data"
    },
    {
     "data": {
      "text/plain": [
       "{'test_loss': 0.9026638269424438, 'test_accuracy': 0.7580645084381104}"
      ]
     },
     "metadata": {},
     "output_type": "display_data"
    },
    {
     "data": {
      "text/html": [
       "<div>\n",
       "<style scoped>\n",
       "    .dataframe tbody tr th:only-of-type {\n",
       "        vertical-align: middle;\n",
       "    }\n",
       "\n",
       "    .dataframe tbody tr th {\n",
       "        vertical-align: top;\n",
       "    }\n",
       "\n",
       "    .dataframe thead th {\n",
       "        text-align: right;\n",
       "    }\n",
       "</style>\n",
       "<table border=\"1\" class=\"dataframe\">\n",
       "  <thead>\n",
       "    <tr style=\"text-align: right;\">\n",
       "      <th></th>\n",
       "      <th>name</th>\n",
       "      <th>type</th>\n",
       "      <th>runtime</th>\n",
       "      <th>test_loss</th>\n",
       "      <th>test_accuracy</th>\n",
       "      <th>train_loss</th>\n",
       "      <th>train_accuracy</th>\n",
       "      <th>val_loss</th>\n",
       "      <th>val_accuracy</th>\n",
       "    </tr>\n",
       "  </thead>\n",
       "  <tbody>\n",
       "    <tr>\n",
       "      <th>vgg16_1615998050_1d5ebfaf</th>\n",
       "      <td>vgg16-relu-sgd</td>\n",
       "      <td>vgg16</td>\n",
       "      <td>00:10:29.982880</td>\n",
       "      <td>0.973511</td>\n",
       "      <td>0.669355</td>\n",
       "      <td>[1.835109829902649, 1.306679129600525, 1.20127...</td>\n",
       "      <td>[0.3582746386528015, 0.46919015049934387, 0.53...</td>\n",
       "      <td>[1.2348053455352783, 1.0419665575027466, 0.977...</td>\n",
       "      <td>[0.6412213444709778, 0.6335877776145935, 0.580...</td>\n",
       "    </tr>\n",
       "    <tr>\n",
       "      <th>vgg16_1615998063_03356be7</th>\n",
       "      <td>vgg16-relu-adam</td>\n",
       "      <td>vgg16</td>\n",
       "      <td>00:08:15.961259</td>\n",
       "      <td>1.054579</td>\n",
       "      <td>0.725806</td>\n",
       "      <td>[3.6813862323760986, 0.629645586013794, 0.3784...</td>\n",
       "      <td>[0.4775528311729431, 0.7711267471313477, 0.866...</td>\n",
       "      <td>[0.6805471181869507, 0.6547092795372009, 0.748...</td>\n",
       "      <td>[0.7557252049446106, 0.7633587718009949, 0.748...</td>\n",
       "    </tr>\n",
       "    <tr>\n",
       "      <th>vgg16_1615998066_8e4e8ce3</th>\n",
       "      <td>vgg16-relu-sgd</td>\n",
       "      <td>vgg16</td>\n",
       "      <td>00:16:33.823339</td>\n",
       "      <td>1.296660</td>\n",
       "      <td>0.588710</td>\n",
       "      <td>[1.7136633396148682, 1.2780202627182007, 1.161...</td>\n",
       "      <td>[0.35079225897789, 0.4960387349128723, 0.54665...</td>\n",
       "      <td>[1.3049980401992798, 1.0312479734420776, 0.973...</td>\n",
       "      <td>[0.4122137427330017, 0.572519063949585, 0.6946...</td>\n",
       "    </tr>\n",
       "    <tr>\n",
       "      <th>vgg16_1615998071_817495e4</th>\n",
       "      <td>vgg16-sigmoid-adam</td>\n",
       "      <td>vgg16</td>\n",
       "      <td>00:10:53.899273</td>\n",
       "      <td>0.902664</td>\n",
       "      <td>0.758065</td>\n",
       "      <td>[2.556894302368164, 1.020498514175415, 0.69135...</td>\n",
       "      <td>[0.31954225897789, 0.5792253613471985, 0.75572...</td>\n",
       "      <td>[1.3884254693984985, 0.7647875547409058, 0.585...</td>\n",
       "      <td>[0.4122137427330017, 0.6870229244232178, 0.748...</td>\n",
       "    </tr>\n",
       "  </tbody>\n",
       "</table>\n",
       "</div>"
      ],
      "text/plain": [
       "                                         name   type         runtime  \\\n",
       "vgg16_1615998050_1d5ebfaf      vgg16-relu-sgd  vgg16 00:10:29.982880   \n",
       "vgg16_1615998063_03356be7     vgg16-relu-adam  vgg16 00:08:15.961259   \n",
       "vgg16_1615998066_8e4e8ce3      vgg16-relu-sgd  vgg16 00:16:33.823339   \n",
       "vgg16_1615998071_817495e4  vgg16-sigmoid-adam  vgg16 00:10:53.899273   \n",
       "\n",
       "                           test_loss  test_accuracy  \\\n",
       "vgg16_1615998050_1d5ebfaf   0.973511       0.669355   \n",
       "vgg16_1615998063_03356be7   1.054579       0.725806   \n",
       "vgg16_1615998066_8e4e8ce3   1.296660       0.588710   \n",
       "vgg16_1615998071_817495e4   0.902664       0.758065   \n",
       "\n",
       "                                                                  train_loss  \\\n",
       "vgg16_1615998050_1d5ebfaf  [1.835109829902649, 1.306679129600525, 1.20127...   \n",
       "vgg16_1615998063_03356be7  [3.6813862323760986, 0.629645586013794, 0.3784...   \n",
       "vgg16_1615998066_8e4e8ce3  [1.7136633396148682, 1.2780202627182007, 1.161...   \n",
       "vgg16_1615998071_817495e4  [2.556894302368164, 1.020498514175415, 0.69135...   \n",
       "\n",
       "                                                              train_accuracy  \\\n",
       "vgg16_1615998050_1d5ebfaf  [0.3582746386528015, 0.46919015049934387, 0.53...   \n",
       "vgg16_1615998063_03356be7  [0.4775528311729431, 0.7711267471313477, 0.866...   \n",
       "vgg16_1615998066_8e4e8ce3  [0.35079225897789, 0.4960387349128723, 0.54665...   \n",
       "vgg16_1615998071_817495e4  [0.31954225897789, 0.5792253613471985, 0.75572...   \n",
       "\n",
       "                                                                    val_loss  \\\n",
       "vgg16_1615998050_1d5ebfaf  [1.2348053455352783, 1.0419665575027466, 0.977...   \n",
       "vgg16_1615998063_03356be7  [0.6805471181869507, 0.6547092795372009, 0.748...   \n",
       "vgg16_1615998066_8e4e8ce3  [1.3049980401992798, 1.0312479734420776, 0.973...   \n",
       "vgg16_1615998071_817495e4  [1.3884254693984985, 0.7647875547409058, 0.585...   \n",
       "\n",
       "                                                                val_accuracy  \n",
       "vgg16_1615998050_1d5ebfaf  [0.6412213444709778, 0.6335877776145935, 0.580...  \n",
       "vgg16_1615998063_03356be7  [0.7557252049446106, 0.7633587718009949, 0.748...  \n",
       "vgg16_1615998066_8e4e8ce3  [0.4122137427330017, 0.572519063949585, 0.6946...  \n",
       "vgg16_1615998071_817495e4  [0.4122137427330017, 0.6870229244232178, 0.748...  "
      ]
     },
     "execution_count": 23,
     "metadata": {},
     "output_type": "execute_result"
    }
   ],
   "source": [
    "log = log_runs(runs, 'vgg16')\n",
    "log"
   ]
  },
  {
   "cell_type": "code",
   "execution_count": 24,
   "metadata": {},
   "outputs": [
    {
     "data": {
      "image/png": "[encoded data removed]",
      "text/plain": [
       "<Figure size 864x288 with 2 Axes>"
      ]
     },
     "metadata": {
      "needs_background": "light"
     },
     "output_type": "display_data"
    },
    {
     "data": {
      "image/png": "[encoded data removed]",
      "text/plain": [
       "<Figure size 864x288 with 2 Axes>"
      ]
     },
     "metadata": {
      "needs_background": "light"
     },
     "output_type": "display_data"
    },
    {
     "data": {
      "image/png": "[encoded data removed]",
      "text/plain": [
       "<Figure size 864x288 with 2 Axes>"
      ]
     },
     "metadata": {
      "needs_background": "light"
     },
     "output_type": "display_data"
    },
    {
     "data": {
      "image/png": "[encoded data removed]",
      "text/plain": [
       "<Figure size 864x288 with 2 Axes>"
      ]
     },
     "metadata": {
      "needs_background": "light"
     },
     "output_type": "display_data"
    }
   ],
   "source": [
    "visualize_log(log)"
   ]
  },
  {
   "cell_type": "code",
   "execution_count": 25,
   "metadata": {},
   "outputs": [
    {
     "data": {
      "image/png": "[encoded data removed]",
      "text/plain": [
       "<Figure size 864x288 with 2 Axes>"
      ]
     },
     "metadata": {
      "needs_background": "light"
     },
     "output_type": "display_data"
    }
   ],
   "source": [
    "plot_accuracy(log)"
   ]
  },
  {
   "cell_type": "markdown",
   "metadata": {},
   "source": [
    "## Comments\n",
    "The sigmoid activation with adam optimizer performed fairly well.  This is significantly better than the CNN models.  More could be done with image augmentation and fine tuning with a lower learning rate but for now I will move on to test another pre;trained model: [Xception](5_Xception_Azure.ipynb) model."
   ]
  }
 ],
 "metadata": {
  "kernel_info": {
   "name": "python3-azureml"
  },
  "kernelspec": {
   "display_name": "Python [conda env:ml]",
   "language": "python",
   "name": "conda-env-ml-py"
  },
  "language_info": {
   "codemirror_mode": {
    "name": "ipython",
    "version": 3
   },
   "file_extension": ".py",
   "mimetype": "text/x-python",
   "name": "python",
   "nbconvert_exporter": "python",
   "pygments_lexer": "ipython3",
   "version": "3.7.10"
  },
  "microsoft": {
   "host": {
    "AzureML": {
     "notebookHasBeenCompleted": true
    }
   }
  },
  "nteract": {
   "version": "nteract-front-end@1.0.0"
  },
  "toc": {
   "base_numbering": 1,
   "nav_menu": {},
   "number_sections": true,
   "sideBar": true,
   "skip_h1_title": false,
   "title_cell": "Table of Contents",
   "title_sidebar": "Contents",
   "toc_cell": false,
   "toc_position": {
    "height": "calc(100% - 180px)",
    "left": "10px",
    "top": "150px",
    "width": "327.8px"
   },
   "toc_section_display": true,
   "toc_window_display": true
  }
 },
 "nbformat": 4,
 "nbformat_minor": 2
}
